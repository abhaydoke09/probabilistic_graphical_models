{
 "cells": [
  {
   "cell_type": "code",
   "execution_count": 49,
   "metadata": {
    "collapsed": true
   },
   "outputs": [],
   "source": [
    "import pandas as pd\n",
    "import numpy as np\n",
    "import collections, numpy\n",
    "from numpy import genfromtxt\n",
    "%matplotlib inline"
   ]
  },
  {
   "cell_type": "code",
   "execution_count": 50,
   "metadata": {
    "collapsed": true
   },
   "outputs": [],
   "source": [
    "data_names = ['A','G','CP','BP','CH','ECG','HR','EIA','HD']\n",
    "data_name2index = {}\n",
    "for i,val in enumerate(data_names):\n",
    "    data_name2index[val] = i"
   ]
  },
  {
   "cell_type": "code",
   "execution_count": 51,
   "metadata": {
    "collapsed": true
   },
   "outputs": [],
   "source": [
    "def generate_CPT(target,all_data_frame,parents=[]):\n",
    "    CPT = {}\n",
    "    if len(parents)==0:\n",
    "        #print target\n",
    "        g = all_data_frame.groupby([target])\n",
    "        #print g.groups\n",
    "        normalizer = all_data_frame.shape[0]\n",
    "        for target_value in g.groups.keys():\n",
    "            #CPT[(target_value)] = lig.groups[target_value]\n",
    "            CPT[(target_value,)] = g.groups[target_value].shape[0]*1.0/normalizer\n",
    "        return CPT\n",
    "    else:\n",
    "        g = all_data_frame.groupby(parents)\n",
    "        data_groups = g.groups.keys()\n",
    "        #print g.groups\n",
    "        for target_value in all_data_frame[target].unique():\n",
    "            #print target_value\n",
    "            for data_group in data_groups:\n",
    "                data = all_data_frame.ix[list(g.groups[data_group])]\n",
    "                cpt_key = list(data_group)\n",
    "                cpt_key.insert(0,target_value)\n",
    "                #print data[data[target]==target_value]\n",
    "                normalizer = data.shape[0]\n",
    "                #print normalizer\n",
    "                #print \"-->\",data[data[target]==target_value].shape[0],\"-->\",normalizer\n",
    "                CPT[tuple(cpt_key)] = data[data[target]==target_value].shape[0]*1.0/normalizer\n",
    "        return CPT"
   ]
  },
  {
   "cell_type": "markdown",
   "metadata": {},
   "source": [
    "\n",
    "\n",
    "Adding connection between G and HD in the graph"
   ]
  },
  {
   "cell_type": "code",
   "execution_count": 52,
   "metadata": {
    "collapsed": true
   },
   "outputs": [],
   "source": [
    "CPT_table_names = ['CPT_A', 'CPT_G', 'CPT_CP_HD', 'CPT_BP_G', 'CPT_ECG_HD', 'CPT_HD_BP_CH_G', 'CPT_CH_G_A', 'CPT_EIA_HD', 'CPT_HR_A_HD']\n",
    "def get_CPT_all(df):\n",
    "    result = {}\n",
    "    result['CPT_A'] = generate_CPT('A',df)\n",
    "    result['CPT_G'] = generate_CPT('G',df)\n",
    "    result['CPT_BP_G'] = generate_CPT('BP',df,['G'])\n",
    "    result['CPT_CH_G_A'] = generate_CPT('CH',df,['G','A'])\n",
    "    result['CPT_HD_BP_CH_G'] = generate_CPT('HD',df,['BP','CH','G'])\n",
    "    result['CPT_CP_HD'] = generate_CPT('CP',df,['HD'])\n",
    "    result['CPT_EIA_HD'] = generate_CPT('EIA',df,['HD'])\n",
    "    result['CPT_ECG_HD'] = generate_CPT('ECG',df,['HD'])\n",
    "    result['CPT_HR_A_HD'] = generate_CPT('HR',df,['A','HD'])\n",
    "    result['CPT_HR_A_HD'] = generate_CPT('HR',df,['A','HD'])\n",
    "    #print result.keys()\n",
    "    return result"
   ]
  },
  {
   "cell_type": "code",
   "execution_count": 53,
   "metadata": {
    "collapsed": true
   },
   "outputs": [],
   "source": [
    "def calculate_probability_HD(value_dictionary,CPT_table):\n",
    "    #print value_dictionary,'\\n*******\\n',CPT_table\n",
    "    probability = CPT_table['CPT_HD_BP_CH_G'][(value_dictionary['HD'],value_dictionary['BP'],value_dictionary['CH'],value_dictionary['CH'])]\\\n",
    "                    *CPT_table['CPT_CP_HD'][(value_dictionary['CP'],value_dictionary['HD'])]\\\n",
    "                    *CPT_table['CPT_EIA_HD'][(value_dictionary['EIA'],value_dictionary['HD'])]\\\n",
    "                    *CPT_table['CPT_ECG_HD'][(value_dictionary['ECG'],value_dictionary['HD'])]\\\n",
    "                    *CPT_table['CPT_HR_A_HD'][(value_dictionary['HR'],value_dictionary['A'],value_dictionary['HD'])]\n",
    "    return probability"
   ]
  },
  {
   "cell_type": "code",
   "execution_count": 54,
   "metadata": {
    "collapsed": false
   },
   "outputs": [
    {
     "name": "stdout",
     "output_type": "stream",
     "text": [
      "Accuracy of data-test-4.txt-- > 0.766666666667\n",
      "\n",
      "Accuracy of data-test-1.txt-- > 0.716666666667\n",
      "\n",
      "Accuracy of data-test-3.txt-- > 0.666666666667\n",
      "\n",
      "Accuracy of data-test-5.txt-- > 0.766666666667\n",
      "\n",
      "Accuracy of data-test-2.txt-- > 0.816666666667\n",
      "\n",
      "Mean accuracy -->  0.746666666667  Standard deviation --> 0.0509901951359\n"
     ]
    }
   ],
   "source": [
    "import glob\n",
    "\n",
    "files = {}\n",
    "for i in range(5):\n",
    "    files['data-train-'+str(i+1)+'.txt']='data-test-'+str(i+1)+'.txt'\n",
    "\n",
    "accuracies = []\n",
    "for train_file in files.keys():\n",
    "    df_train = pd.read_csv('../Data/'+train_file, names=data_names,dtype=\"|S5\")\n",
    "    CPT_tables = get_CPT_all(df_train)\n",
    "    df_test = pd.read_csv('../Data/'+files[train_file], names=data_names,dtype=\"|S5\")\n",
    "    target_HD = list(df_test['HD'])\n",
    "    output_HD = []\n",
    "    for index, row in df_test.iterrows():\n",
    "        vals = {}\n",
    "        for feature in data_names:\n",
    "            vals[feature] = row[feature]\n",
    "        vals['HD'] = '1'\n",
    "        hd_1 = calculate_probability_HD(vals,CPT_tables)\n",
    "        vals['HD'] = '2'\n",
    "        hd_2 = calculate_probability_HD(vals,CPT_tables)\n",
    "        p_hd_1 = hd_1/(hd_1+hd_2)\n",
    "        p_hd_2 = hd_2/(hd_1+hd_2)\n",
    "        if p_hd_1>p_hd_2:\n",
    "            output_HD.append('1')\n",
    "        else:\n",
    "            output_HD.append('2')\n",
    "    \n",
    "    N = len(target_HD)\n",
    "    matches = [i for i, j in zip(target_HD, output_HD) if i == j]\n",
    "    print 'Accuracy of '+files[train_file]+'-- >', len(matches)*1.0/N\n",
    "    accuracies.append(len(matches)*1.0/N)\n",
    "    print ''\n",
    "\n",
    "print 'Mean accuracy --> ',np.mean(accuracies),' Standard deviation -->',np.std(accuracies)\n",
    "        \n"
   ]
  },
  {
   "cell_type": "markdown",
   "metadata": {},
   "source": [
    "\n",
    "\n",
    "Adding connection between A and HD in the graph"
   ]
  },
  {
   "cell_type": "code",
   "execution_count": 55,
   "metadata": {
    "collapsed": true
   },
   "outputs": [],
   "source": [
    "CPT_table_names = ['CPT_A', 'CPT_G', 'CPT_CP_HD', 'CPT_BP_G', 'CPT_ECG_HD', 'CPT_HD_BP_CH_A', 'CPT_CH_G_A', 'CPT_EIA_HD', 'CPT_HR_A_HD']\n",
    "def get_CPT_all(df):\n",
    "    result = {}\n",
    "    result['CPT_A'] = generate_CPT('A',df)\n",
    "    result['CPT_G'] = generate_CPT('G',df)\n",
    "    result['CPT_BP_G'] = generate_CPT('BP',df,['G'])\n",
    "    result['CPT_CH_G_A'] = generate_CPT('CH',df,['G','A'])\n",
    "    result['CPT_HD_BP_CH_A'] = generate_CPT('HD',df,['BP','CH','A'])\n",
    "    result['CPT_CP_HD'] = generate_CPT('CP',df,['HD'])\n",
    "    result['CPT_EIA_HD'] = generate_CPT('EIA',df,['HD'])\n",
    "    result['CPT_ECG_HD'] = generate_CPT('ECG',df,['HD'])\n",
    "    result['CPT_HR_A_HD'] = generate_CPT('HR',df,['A','HD'])\n",
    "    #result['CPT_HR_A_HD'] = generate_CPT('HR',df,['A','HD'])\n",
    "    #print result.keys()\n",
    "    return result"
   ]
  },
  {
   "cell_type": "code",
   "execution_count": 56,
   "metadata": {
    "collapsed": true
   },
   "outputs": [],
   "source": [
    "def calculate_probability_HD(value_dictionary,CPT_table):\n",
    "    #print value_dictionary,'\\n*******\\n',CPT_table\n",
    "    probability = CPT_table['CPT_HD_BP_CH_A'][(value_dictionary['HD'],value_dictionary['BP'],value_dictionary['CH'],value_dictionary['CH'])]\\\n",
    "                    *CPT_table['CPT_CP_HD'][(value_dictionary['CP'],value_dictionary['HD'])]\\\n",
    "                    *CPT_table['CPT_EIA_HD'][(value_dictionary['EIA'],value_dictionary['HD'])]\\\n",
    "                    *CPT_table['CPT_ECG_HD'][(value_dictionary['ECG'],value_dictionary['HD'])]\\\n",
    "                    *CPT_table['CPT_HR_A_HD'][(value_dictionary['HR'],value_dictionary['A'],value_dictionary['HD'])]\n",
    "    return probability"
   ]
  },
  {
   "cell_type": "code",
   "execution_count": 57,
   "metadata": {
    "collapsed": false
   },
   "outputs": [
    {
     "name": "stdout",
     "output_type": "stream",
     "text": [
      "Accuracy of data-test-4.txt-- > 0.733333333333\n",
      "\n",
      "Accuracy of data-test-1.txt-- > 0.7\n",
      "\n",
      "Accuracy of data-test-3.txt-- > 0.616666666667\n",
      "\n",
      "Accuracy of data-test-5.txt-- > 0.75\n",
      "\n",
      "Accuracy of data-test-2.txt-- > 0.783333333333\n",
      "\n",
      "Mean accuracy -->  0.716666666667  Standard deviation --> 0.0567646212198\n"
     ]
    }
   ],
   "source": [
    "import glob\n",
    "\n",
    "files = {}\n",
    "for i in range(5):\n",
    "    files['data-train-'+str(i+1)+'.txt']='data-test-'+str(i+1)+'.txt'\n",
    "\n",
    "accuracies = []\n",
    "for train_file in files.keys():\n",
    "    df_train = pd.read_csv('../Data/'+train_file, names=data_names,dtype=\"|S5\")\n",
    "    CPT_tables = get_CPT_all(df_train)\n",
    "    df_test = pd.read_csv('../Data/'+files[train_file], names=data_names,dtype=\"|S5\")\n",
    "    target_HD = list(df_test['HD'])\n",
    "    output_HD = []\n",
    "    for index, row in df_test.iterrows():\n",
    "        vals = {}\n",
    "        for feature in data_names:\n",
    "            vals[feature] = row[feature]\n",
    "        vals['HD'] = '1'\n",
    "        hd_1 = calculate_probability_HD(vals,CPT_tables)\n",
    "        vals['HD'] = '2'\n",
    "        hd_2 = calculate_probability_HD(vals,CPT_tables)\n",
    "        p_hd_1 = hd_1/(hd_1+hd_2)\n",
    "        p_hd_2 = hd_2/(hd_1+hd_2)\n",
    "        if p_hd_1>p_hd_2:\n",
    "            output_HD.append('1')\n",
    "        else:\n",
    "            output_HD.append('2')\n",
    "    \n",
    "    N = len(target_HD)\n",
    "    matches = [i for i, j in zip(target_HD, output_HD) if i == j]\n",
    "    print 'Accuracy of '+files[train_file]+'-- >', len(matches)*1.0/N\n",
    "    accuracies.append(len(matches)*1.0/N)\n",
    "    print ''\n",
    "\n",
    "print 'Mean accuracy --> ',np.mean(accuracies),' Standard deviation -->',np.std(accuracies)\n",
    "        \n"
   ]
  },
  {
   "cell_type": "markdown",
   "metadata": {},
   "source": [
    "\n",
    "\n",
    "Removing connection of A to HR in the graph"
   ]
  },
  {
   "cell_type": "code",
   "execution_count": 58,
   "metadata": {
    "collapsed": true
   },
   "outputs": [],
   "source": [
    "CPT_table_names = ['CPT_A', 'CPT_G', 'CPT_CP_HD', 'CPT_BP_G', 'CPT_ECG_HD', 'CPT_HD_BP_CH', 'CPT_CH_G_A', 'CPT_EIA_HD', 'CPT_HR_HD']\n",
    "def get_CPT_all(df):\n",
    "    result = {}\n",
    "    result['CPT_A'] = generate_CPT('A',df)\n",
    "    result['CPT_G'] = generate_CPT('G',df)\n",
    "    result['CPT_BP_G'] = generate_CPT('BP',df,['G'])\n",
    "    result['CPT_CH_G_A'] = generate_CPT('CH',df,['G','A'])\n",
    "    result['CPT_HD_BP_CH'] = generate_CPT('HD',df,['BP','CH'])\n",
    "    result['CPT_CP_HD'] = generate_CPT('CP',df,['HD'])\n",
    "    result['CPT_EIA_HD'] = generate_CPT('EIA',df,['HD'])\n",
    "    result['CPT_ECG_HD'] = generate_CPT('ECG',df,['HD'])\n",
    "    result['CPT_HR_HD'] = generate_CPT('HR',df,['HD'])\n",
    "    result['CPT_HR_HD'] = generate_CPT('HR',df,['HD'])\n",
    "    #print result.keys()\n",
    "    return result"
   ]
  },
  {
   "cell_type": "code",
   "execution_count": 59,
   "metadata": {
    "collapsed": true
   },
   "outputs": [],
   "source": [
    "def calculate_probability_HD(value_dictionary,CPT_table):\n",
    "    #print value_dictionary,'\\n*******\\n',CPT_table\n",
    "    probability = CPT_table['CPT_HD_BP_CH'][(value_dictionary['HD'],value_dictionary['BP'],value_dictionary['CH'])]\\\n",
    "                    *CPT_table['CPT_CP_HD'][(value_dictionary['CP'],value_dictionary['HD'])]\\\n",
    "                    *CPT_table['CPT_EIA_HD'][(value_dictionary['EIA'],value_dictionary['HD'])]\\\n",
    "                    *CPT_table['CPT_ECG_HD'][(value_dictionary['ECG'],value_dictionary['HD'])]\\\n",
    "                    *CPT_table['CPT_HR_HD'][(value_dictionary['HR'],value_dictionary['HD'])]\n",
    "    return probability"
   ]
  },
  {
   "cell_type": "code",
   "execution_count": 60,
   "metadata": {
    "collapsed": false
   },
   "outputs": [
    {
     "name": "stdout",
     "output_type": "stream",
     "text": [
      "Accuracy of data-test-4.txt-- > 0.8\n",
      "\n",
      "Accuracy of data-test-1.txt-- > 0.716666666667\n",
      "\n",
      "Accuracy of data-test-3.txt-- > 0.666666666667\n",
      "\n",
      "Accuracy of data-test-5.txt-- > 0.8\n",
      "\n",
      "Accuracy of data-test-2.txt-- > 0.816666666667\n",
      "\n",
      "Mean accuracy -->  0.76  Standard deviation --> 0.0583095189485\n"
     ]
    }
   ],
   "source": [
    "import glob\n",
    "\n",
    "files = {}\n",
    "for i in range(5):\n",
    "    files['data-train-'+str(i+1)+'.txt']='data-test-'+str(i+1)+'.txt'\n",
    "\n",
    "accuracies = []\n",
    "for train_file in files.keys():\n",
    "    df_train = pd.read_csv('../Data/'+train_file, names=data_names,dtype=\"|S5\")\n",
    "    CPT_tables = get_CPT_all(df_train)\n",
    "    df_test = pd.read_csv('../Data/'+files[train_file], names=data_names,dtype=\"|S5\")\n",
    "    target_HD = list(df_test['HD'])\n",
    "    output_HD = []\n",
    "    for index, row in df_test.iterrows():\n",
    "        vals = {}\n",
    "        for feature in data_names:\n",
    "            vals[feature] = row[feature]\n",
    "        vals['HD'] = '1'\n",
    "        hd_1 = calculate_probability_HD(vals,CPT_tables)\n",
    "        vals['HD'] = '2'\n",
    "        hd_2 = calculate_probability_HD(vals,CPT_tables)\n",
    "        p_hd_1 = hd_1/(hd_1+hd_2)\n",
    "        p_hd_2 = hd_2/(hd_1+hd_2)\n",
    "        if p_hd_1>p_hd_2:\n",
    "            output_HD.append('1')\n",
    "        else:\n",
    "            output_HD.append('2')\n",
    "    \n",
    "    N = len(target_HD)\n",
    "    matches = [i for i, j in zip(target_HD, output_HD) if i == j]\n",
    "    print 'Accuracy of '+files[train_file]+'-- >', len(matches)*1.0/N\n",
    "    accuracies.append(len(matches)*1.0/N)\n",
    "    print ''\n",
    "\n",
    "print 'Mean accuracy --> ',np.mean(accuracies),' Standard deviation -->',np.std(accuracies)\n",
    "        \n"
   ]
  },
  {
   "cell_type": "code",
   "execution_count": null,
   "metadata": {
    "collapsed": true
   },
   "outputs": [],
   "source": []
  },
  {
   "cell_type": "code",
   "execution_count": null,
   "metadata": {
    "collapsed": true
   },
   "outputs": [],
   "source": []
  }
 ],
 "metadata": {
  "kernelspec": {
   "display_name": "Python 2",
   "language": "python",
   "name": "python2"
  },
  "language_info": {
   "codemirror_mode": {
    "name": "ipython",
    "version": 2
   },
   "file_extension": ".py",
   "mimetype": "text/x-python",
   "name": "python",
   "nbconvert_exporter": "python",
   "pygments_lexer": "ipython2",
   "version": "2.7.10"
  }
 },
 "nbformat": 4,
 "nbformat_minor": 0
}
