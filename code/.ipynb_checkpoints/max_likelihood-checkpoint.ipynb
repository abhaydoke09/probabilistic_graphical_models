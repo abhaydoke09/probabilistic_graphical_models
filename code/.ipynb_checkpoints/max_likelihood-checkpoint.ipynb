{
 "cells": [
  {
   "cell_type": "code",
   "execution_count": 3,
   "metadata": {
    "collapsed": true
   },
   "outputs": [],
   "source": [
    "import pandas as pd\n",
    "import numpy as np\n",
    "import collections, numpy\n",
    "from numpy import genfromtxt"
   ]
  },
  {
   "cell_type": "code",
   "execution_count": 4,
   "metadata": {
    "collapsed": false
   },
   "outputs": [],
   "source": [
    "data_names = ['A','G','CP','BP','CH','ECG','HR','EIA','HD']\n",
    "data_name2index = {}\n",
    "for i,val in enumerate(data_names):\n",
    "    data_name2index[val] = i"
   ]
  },
  {
   "cell_type": "code",
   "execution_count": 5,
   "metadata": {
    "collapsed": false
   },
   "outputs": [
    {
     "data": {
      "text/plain": [
       "array(['3', '2', '4', '2', '2', '2', '1', '2', '2'], \n",
       "      dtype='|S5')"
      ]
     },
     "execution_count": 5,
     "metadata": {},
     "output_type": "execute_result"
    }
   ],
   "source": [
    "my_data = genfromtxt('../Data/data-train-1.txt', delimiter=',',dtype=\"|S5\")\n",
    "my_data[0]"
   ]
  },
  {
   "cell_type": "code",
   "execution_count": 6,
   "metadata": {
    "collapsed": false
   },
   "outputs": [
    {
     "data": {
      "text/plain": [
       "6"
      ]
     },
     "execution_count": 6,
     "metadata": {},
     "output_type": "execute_result"
    }
   ],
   "source": [
    "data_unique_values = {}\n",
    "for i,name in enumerate(data_names):\n",
    "    data_unique_values[name] = dict(collections.Counter(my_data[:,i])).keys()\n",
    "data_unique_values\n",
    "\n",
    "len(np.where((my_data == ('3', '2', '4', '2', '2', '2', '1', '2', '2')).all(axis=1))[0])\n",
    "\n"
   ]
  },
  {
   "cell_type": "code",
   "execution_count": 7,
   "metadata": {
    "collapsed": false
   },
   "outputs": [
    {
     "name": "stdout",
     "output_type": "stream",
     "text": [
      "{'1': 43, '3': 125, '2': 75}\n"
     ]
    },
    {
     "data": {
      "text/plain": [
       "{'1': 0.17695473251028807, '2': 0.30864197530864196, '3': 0.51440329218107}"
      ]
     },
     "execution_count": 7,
     "metadata": {},
     "output_type": "execute_result"
    }
   ],
   "source": [
    "A = dict(collections.Counter(my_data[:,0]))\n",
    "print A\n",
    "CPT_A = {}\n",
    "for key in A.keys():\n",
    "    CPT_A[key] = A[key]*1.0/sum(A.values())\n",
    "\n",
    "CPT_A"
   ]
  },
  {
   "cell_type": "code",
   "execution_count": 8,
   "metadata": {
    "collapsed": false
   },
   "outputs": [
    {
     "name": "stdout",
     "output_type": "stream",
     "text": [
      "{'1': 82, '2': 161}\n",
      "['1', '2']\n"
     ]
    },
    {
     "data": {
      "text/plain": [
       "{'1': 0.3374485596707819, '2': 0.6625514403292181}"
      ]
     },
     "execution_count": 8,
     "metadata": {},
     "output_type": "execute_result"
    }
   ],
   "source": [
    "G = dict(collections.Counter(my_data[:,1]))\n",
    "print G\n",
    "CPT_G = {}\n",
    "print G.keys()\n",
    "for key in G.keys():\n",
    "    CPT_G[key] = G[key]*1.0/sum(G.values())\n",
    "CPT_G"
   ]
  },
  {
   "cell_type": "code",
   "execution_count": 9,
   "metadata": {
    "collapsed": true
   },
   "outputs": [],
   "source": [
    "A_vals = dict(collections.Counter(my_data[:,0])).keys()\n",
    "G_vals = dict(collections.Counter(my_data[:,1])).keys()\n",
    "CP_vals = dict(collections.Counter(my_data[:,2])).keys()\n",
    "BP_vals = dict(collections.Counter(my_data[:,3])).keys()\n",
    "CH_vals = dict(collections.Counter(my_data[:,4])).keys()\n",
    "ECG_vals = dict(collections.Counter(my_data[:,5])).keys()\n",
    "HR_vals = dict(collections.Counter(my_data[:,6])).keys()\n",
    "EIA_vals = dict(collections.Counter(my_data[:,7])).keys()\n",
    "HD_vals = dict(collections.Counter(my_data[:,8])).keys()"
   ]
  },
  {
   "cell_type": "code",
   "execution_count": 10,
   "metadata": {
    "collapsed": false
   },
   "outputs": [
    {
     "name": "stdout",
     "output_type": "stream",
     "text": [
      "{('2', '1'): 0.6341463414634146, ('1', '2'): 0.4720496894409938, ('1', '1'): 0.36585365853658536, ('2', '2'): 0.5279503105590062}\n"
     ]
    }
   ],
   "source": [
    "CPT_BP_G = {}\n",
    "for G in G_vals:\n",
    "    data = my_data[my_data[:,1]==G]\n",
    "    for BP in BP_vals:\n",
    "        CPT_BP_G[(BP,G)] = data[data[:,3]==BP].shape[0]*1.0/data.shape[0]\n",
    "\n",
    "print CPT_BP_G\n",
    "    "
   ]
  },
  {
   "cell_type": "code",
   "execution_count": 11,
   "metadata": {
    "collapsed": false
   },
   "outputs": [
    {
     "name": "stdout",
     "output_type": "stream",
     "text": [
      "{('2', '1', '3'): 0.8936170212765957, ('2', '1', '1'): 0.7857142857142857, ('1', '1', '1'): 0.21428571428571427, ('2', '2', '1'): 0.7241379310344828, ('1', '2', '3'): 0.16666666666666666, ('2', '2', '3'): 0.8333333333333334, ('1', '1', '2'): 0.14285714285714285, ('2', '2', '2'): 0.8333333333333334, ('1', '2', '2'): 0.16666666666666666, ('1', '1', '3'): 0.10638297872340426, ('2', '1', '2'): 0.8571428571428571, ('1', '2', '1'): 0.27586206896551724}\n"
     ]
    }
   ],
   "source": [
    "from collections import defaultdict\n",
    "CPT_CH_G_A = {}\n",
    "vals = defaultdict(int)\n",
    "parent_vals = defaultdict(int)\n",
    "temp_data = my_data[:,[4,1,0]]\n",
    "#print temp_data.shape\n",
    "for i in range(temp_data.shape[0]):\n",
    "    vals[(temp_data[i,0],temp_data[i,1],temp_data[i,2])]+=1\n",
    "    parent_vals[(temp_data[i,1],temp_data[i,2])]+=1\n",
    "\n",
    "#print vals,parent_vals\n",
    "\n",
    "for t in vals.keys():\n",
    "    CPT_CH_G_A[(t)] = vals[t]*1.0/parent_vals[(t[1],t[2])]\n",
    "print CPT_CH_G_A\n",
    "               "
   ]
  },
  {
   "cell_type": "code",
   "execution_count": 12,
   "metadata": {
    "collapsed": false
   },
   "outputs": [
    {
     "name": "stdout",
     "output_type": "stream",
     "text": [
      "{('2', '1', '1'): 0.47368421052631576, ('1', '1', '1'): 0.5263157894736842, ('2', '2', '1'): 0.4090909090909091, ('1', '1', '2'): 0.5862068965517241, ('2', '2', '2'): 0.48695652173913045, ('1', '2', '2'): 0.5130434782608696, ('2', '1', '2'): 0.41379310344827586, ('1', '2', '1'): 0.5909090909090909}\n"
     ]
    }
   ],
   "source": [
    "#data_names = ['A','G','CP','BP','CH','ECG','HR','EIA','HD']\n",
    "CPT_HD_BP_CH = {}\n",
    "vals = defaultdict(int)\n",
    "parent_vals = defaultdict(int)\n",
    "temp_data = my_data[:,[8,3,4]]\n",
    "#print temp_data.shape\n",
    "for i in range(temp_data.shape[0]):\n",
    "    vals[(temp_data[i,0],temp_data[i,1],temp_data[i,2])]+=1\n",
    "    parent_vals[(temp_data[i,1],temp_data[i,2])]+=1\n",
    "\n",
    "#print vals,parent_vals\n",
    "\n",
    "for t in vals.keys():\n",
    "    CPT_HD_BP_CH[(t)] = vals[t]*1.0/parent_vals[(t[1],t[2])]\n",
    "print CPT_HD_BP_CH"
   ]
  },
  {
   "cell_type": "code",
   "execution_count": 13,
   "metadata": {
    "collapsed": false
   },
   "outputs": [
    {
     "name": "stdout",
     "output_type": "stream",
     "text": [
      "{('1', '1'): 0.06766917293233082, ('2', '2'): 0.07272727272727272, ('2', '1'): 0.2631578947368421, ('3', '1'): 0.42105263157894735, ('3', '2'): 0.10909090909090909, ('4', '1'): 0.24812030075187969, ('1', '2'): 0.05454545454545454, ('4', '2'): 0.7636363636363637}\n"
     ]
    }
   ],
   "source": [
    "#data_names = ['A','G','CP','BP','CH','ECG','HR','EIA','HD']\n",
    "CPT_CP_HD = {}\n",
    "for HD in HD_vals:\n",
    "    data = my_data[my_data[:,8]==HD]\n",
    "    for CP in CP_vals:\n",
    "        CPT_CP_HD[(CP,HD)] = data[data[:,2]==CP].shape[0]*1.0/data.shape[0]\n",
    "\n",
    "print CPT_CP_HD"
   ]
  },
  {
   "cell_type": "code",
   "execution_count": 14,
   "metadata": {
    "collapsed": false
   },
   "outputs": [
    {
     "name": "stdout",
     "output_type": "stream",
     "text": [
      "{('2', '1'): 0.11278195488721804, ('1', '2'): 0.41818181818181815, ('1', '1'): 0.8872180451127819, ('2', '2'): 0.5818181818181818}\n"
     ]
    }
   ],
   "source": [
    "#data_names = ['A','G','CP','BP','CH','ECG','HR','EIA','HD']\n",
    "CPT_EIA_HD = {}\n",
    "for HD in HD_vals:\n",
    "    data = my_data[my_data[:,8]==HD]\n",
    "    for EIA in EIA_vals:\n",
    "        CPT_EIA_HD[(EIA,HD)] = data[data[:,7]==EIA].shape[0]*1.0/data.shape[0]\n",
    "\n",
    "print CPT_EIA_HD"
   ]
  },
  {
   "cell_type": "code",
   "execution_count": 15,
   "metadata": {
    "collapsed": false
   },
   "outputs": [
    {
     "name": "stdout",
     "output_type": "stream",
     "text": [
      "{('2', '1'): 0.40601503759398494, ('1', '2'): 0.41818181818181815, ('1', '1'): 0.5939849624060151, ('2', '2'): 0.5818181818181818}\n"
     ]
    }
   ],
   "source": [
    "#data_names = ['A','G','CP','BP','CH','ECG','HR','EIA','HD']\n",
    "CPT_ECG_HD = {}\n",
    "for HD in HD_vals:\n",
    "    data = my_data[my_data[:,8]==HD]\n",
    "    for ECG in ECG_vals:\n",
    "        CPT_ECG_HD[(ECG,HD)] = data[data[:,5]==ECG].shape[0]*1.0/data.shape[0]\n",
    "\n",
    "print CPT_ECG_HD"
   ]
  },
  {
   "cell_type": "code",
   "execution_count": 16,
   "metadata": {
    "collapsed": false
   },
   "outputs": [
    {
     "name": "stdout",
     "output_type": "stream",
     "text": [
      "{('2', '3', '1'): 0.6666666666666666, ('2', '1', '1'): 0.9393939393939394, ('1', '1', '1'): 0.06060606060606061, ('1', '3', '1'): 0.3333333333333333, ('2', '2', '1'): 0.8269230769230769, ('1', '1', '2'): 0.6, ('2', '2', '2'): 0.4782608695652174, ('1', '2', '2'): 0.5217391304347826, ('2', '3', '2'): 0.42857142857142855, ('2', '1', '2'): 0.4, ('1', '2', '1'): 0.17307692307692307, ('1', '3', '2'): 0.5714285714285714}\n"
     ]
    }
   ],
   "source": [
    "#data_names = ['A','G','CP','BP','CH','ECG','HR','EIA','HD']\n",
    "CPT_HR_A_HD = {}\n",
    "vals = defaultdict(int)\n",
    "parent_vals = defaultdict(int)\n",
    "temp_data = my_data[:,[6,0,8]]\n",
    "#print temp_data.shape\n",
    "for i in range(temp_data.shape[0]):\n",
    "    vals[(temp_data[i,0],temp_data[i,1],temp_data[i,2])]+=1\n",
    "    parent_vals[(temp_data[i,1],temp_data[i,2])]+=1\n",
    "\n",
    "#print vals,parent_vals\n",
    "\n",
    "for t in vals.keys():\n",
    "    CPT_HR_A_HD[(t)] = vals[t]*1.0/parent_vals[(t[1],t[2])]\n",
    "print CPT_HR_A_HD"
   ]
  },
  {
   "cell_type": "code",
   "execution_count": 17,
   "metadata": {
    "collapsed": false
   },
   "outputs": [],
   "source": [
    "data_names = ['A','G','CP','BP','CH','ECG','HR','EIA','HD']\n",
    "df = pd.read_csv('../Data/data-train-1.txt', names=data_names,dtype=\"|S5\")\n"
   ]
  },
  {
   "cell_type": "code",
   "execution_count": null,
   "metadata": {
    "collapsed": false
   },
   "outputs": [],
   "source": []
  },
  {
   "cell_type": "code",
   "execution_count": 18,
   "metadata": {
    "collapsed": false
   },
   "outputs": [
    {
     "name": "stdout",
     "output_type": "stream",
     "text": [
      "3\n",
      "1\n",
      "2\n"
     ]
    }
   ],
   "source": [
    "for k in df['A'].unique():\n",
    "    print k"
   ]
  },
  {
   "cell_type": "code",
   "execution_count": 24,
   "metadata": {
    "collapsed": false
   },
   "outputs": [
    {
     "data": {
      "text/html": [
       "<div>\n",
       "<table border=\"1\" class=\"dataframe\">\n",
       "  <thead>\n",
       "    <tr style=\"text-align: right;\">\n",
       "      <th></th>\n",
       "      <th>A</th>\n",
       "      <th>G</th>\n",
       "      <th>CP</th>\n",
       "      <th>BP</th>\n",
       "      <th>CH</th>\n",
       "      <th>ECG</th>\n",
       "      <th>HR</th>\n",
       "      <th>EIA</th>\n",
       "      <th>HD</th>\n",
       "    </tr>\n",
       "  </thead>\n",
       "  <tbody>\n",
       "  </tbody>\n",
       "</table>\n",
       "</div>"
      ],
      "text/plain": [
       "Empty DataFrame\n",
       "Columns: [A, G, CP, BP, CH, ECG, HR, EIA, HD]\n",
       "Index: []"
      ]
     },
     "execution_count": 24,
     "metadata": {},
     "output_type": "execute_result"
    }
   ],
   "source": [
    "df[(df['BP']==1) & (df['CH']==1)]"
   ]
  },
  {
   "cell_type": "code",
   "execution_count": 55,
   "metadata": {
    "collapsed": false
   },
   "outputs": [
    {
     "name": "stdout",
     "output_type": "stream",
     "text": [
      "['1', '2']\n"
     ]
    }
   ],
   "source": [
    "x = df.groupby(['HD'])\n",
    "print x.groups.keys()\n",
    "a = list(x.groups['1'])\n",
    "#df.ix[a]"
   ]
  },
  {
   "cell_type": "code",
   "execution_count": 122,
   "metadata": {
    "collapsed": false
   },
   "outputs": [
    {
     "ename": "SyntaxError",
     "evalue": "invalid syntax (<ipython-input-122-6efc914fa38b>, line 8)",
     "output_type": "error",
     "traceback": [
      "\u001b[0;36m  File \u001b[0;32m\"<ipython-input-122-6efc914fa38b>\"\u001b[0;36m, line \u001b[0;32m8\u001b[0m\n\u001b[0;31m    for target_value g.groups.keys():\u001b[0m\n\u001b[0m                     ^\u001b[0m\n\u001b[0;31mSyntaxError\u001b[0m\u001b[0;31m:\u001b[0m invalid syntax\n"
     ]
    }
   ],
   "source": [
    "def generate_CPT(target,parents=[],all_data_frame):\n",
    "    CPT = {}\n",
    "    if len(parents)==0:\n",
    "        print target\n",
    "        g = all_data_frame.groupby([target])\n",
    "        print g.groups\n",
    "        normalizer = all_data_frame.shape[0]\n",
    "        for target_value in g.groups.keys():\n",
    "            #CPT[(target_value)] = lig.groups[target_value]\n",
    "            print g.groups[target_value]\n",
    "    else:\n",
    "        g = all_data_frame.groupby(parents)\n",
    "        data_groups = g.groups.keys()\n",
    "        #print g.groups\n",
    "        for target_value in df[target].unique():\n",
    "            print target_value\n",
    "            for data_group in data_groups:\n",
    "                data = all_data_frame.ix[list(g.groups[data_group])]\n",
    "                cpt_key = list(data_group)\n",
    "                cpt_key.insert(0,target_value)\n",
    "                #print data[data[target]==target_value]\n",
    "                normalizer = data.shape[0]\n",
    "                #print normalizer\n",
    "                #print \"-->\",data[data[target]==target_value].shape[0],\"-->\",normalizer\n",
    "                CPT[tuple(cpt_key)] = data[data[target]==target_value].shape[0]*1.0/normalizer\n",
    "        return CPT\n",
    "    \n",
    "        \n",
    "generate_CPT('HD',['BP','CH'],df)\n",
    "#generate_CPT('A')"
   ]
  },
  {
   "cell_type": "code",
   "execution_count": null,
   "metadata": {
    "collapsed": true
   },
   "outputs": [],
   "source": []
  },
  {
   "cell_type": "code",
   "execution_count": null,
   "metadata": {
    "collapsed": true
   },
   "outputs": [],
   "source": []
  }
 ],
 "metadata": {
  "kernelspec": {
   "display_name": "Python 2",
   "language": "python",
   "name": "python2"
  },
  "language_info": {
   "codemirror_mode": {
    "name": "ipython",
    "version": 2
   },
   "file_extension": ".py",
   "mimetype": "text/x-python",
   "name": "python",
   "nbconvert_exporter": "python",
   "pygments_lexer": "ipython2",
   "version": "2.7.10"
  }
 },
 "nbformat": 4,
 "nbformat_minor": 0
}
